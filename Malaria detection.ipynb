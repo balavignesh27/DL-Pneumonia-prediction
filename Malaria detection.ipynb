{
 "cells": [
  {
   "cell_type": "markdown",
   "metadata": {},
   "source": [
    "## Creating CNN using Transfer Learning VGG19"
   ]
  },
  {
   "cell_type": "code",
   "execution_count": 1,
   "metadata": {},
   "outputs": [],
   "source": [
    "from keras.applications.vgg19 import VGG19\n",
    "from keras.layers import Flatten\n",
    "from keras.layers import Dense\n",
    "from keras.models import Model\n",
    "from glob import glob"
   ]
  },
  {
   "cell_type": "code",
   "execution_count": 2,
   "metadata": {},
   "outputs": [],
   "source": [
    "# Resize all the images to this\n",
    "IMAGE_SIZE = [224,224]\n",
    "\n",
    "train_path = r'C:\\Users\\admin\\Desktop\\Projects\\My Malaria Detection Project\\Dataset\\Train'\n",
    "valid_path = r'C:\\Users\\admin\\Desktop\\Projects\\My Malaria Detection Project\\Dataset\\Test'"
   ]
  },
  {
   "cell_type": "code",
   "execution_count": 3,
   "metadata": {},
   "outputs": [],
   "source": [
    "vgg = VGG19(input_shape=IMAGE_SIZE+[3], weights='imagenet', include_top=False)"
   ]
  },
  {
   "cell_type": "code",
   "execution_count": 4,
   "metadata": {},
   "outputs": [],
   "source": [
    "# Don't train the existing weights\n",
    "for layer in vgg.layers:\n",
    "    layer.trainable = False"
   ]
  },
  {
   "cell_type": "code",
   "execution_count": 5,
   "metadata": {},
   "outputs": [
    {
     "name": "stdout",
     "output_type": "stream",
     "text": [
      "Model: \"vgg19\"\n",
      "_________________________________________________________________\n",
      "Layer (type)                 Output Shape              Param #   \n",
      "=================================================================\n",
      "input_1 (InputLayer)         [(None, 224, 224, 3)]     0         \n",
      "_________________________________________________________________\n",
      "block1_conv1 (Conv2D)        (None, 224, 224, 64)      1792      \n",
      "_________________________________________________________________\n",
      "block1_conv2 (Conv2D)        (None, 224, 224, 64)      36928     \n",
      "_________________________________________________________________\n",
      "block1_pool (MaxPooling2D)   (None, 112, 112, 64)      0         \n",
      "_________________________________________________________________\n",
      "block2_conv1 (Conv2D)        (None, 112, 112, 128)     73856     \n",
      "_________________________________________________________________\n",
      "block2_conv2 (Conv2D)        (None, 112, 112, 128)     147584    \n",
      "_________________________________________________________________\n",
      "block2_pool (MaxPooling2D)   (None, 56, 56, 128)       0         \n",
      "_________________________________________________________________\n",
      "block3_conv1 (Conv2D)        (None, 56, 56, 256)       295168    \n",
      "_________________________________________________________________\n",
      "block3_conv2 (Conv2D)        (None, 56, 56, 256)       590080    \n",
      "_________________________________________________________________\n",
      "block3_conv3 (Conv2D)        (None, 56, 56, 256)       590080    \n",
      "_________________________________________________________________\n",
      "block3_conv4 (Conv2D)        (None, 56, 56, 256)       590080    \n",
      "_________________________________________________________________\n",
      "block3_pool (MaxPooling2D)   (None, 28, 28, 256)       0         \n",
      "_________________________________________________________________\n",
      "block4_conv1 (Conv2D)        (None, 28, 28, 512)       1180160   \n",
      "_________________________________________________________________\n",
      "block4_conv2 (Conv2D)        (None, 28, 28, 512)       2359808   \n",
      "_________________________________________________________________\n",
      "block4_conv3 (Conv2D)        (None, 28, 28, 512)       2359808   \n",
      "_________________________________________________________________\n",
      "block4_conv4 (Conv2D)        (None, 28, 28, 512)       2359808   \n",
      "_________________________________________________________________\n",
      "block4_pool (MaxPooling2D)   (None, 14, 14, 512)       0         \n",
      "_________________________________________________________________\n",
      "block5_conv1 (Conv2D)        (None, 14, 14, 512)       2359808   \n",
      "_________________________________________________________________\n",
      "block5_conv2 (Conv2D)        (None, 14, 14, 512)       2359808   \n",
      "_________________________________________________________________\n",
      "block5_conv3 (Conv2D)        (None, 14, 14, 512)       2359808   \n",
      "_________________________________________________________________\n",
      "block5_conv4 (Conv2D)        (None, 14, 14, 512)       2359808   \n",
      "_________________________________________________________________\n",
      "block5_pool (MaxPooling2D)   (None, 7, 7, 512)         0         \n",
      "=================================================================\n",
      "Total params: 20,024,384\n",
      "Trainable params: 0\n",
      "Non-trainable params: 20,024,384\n",
      "_________________________________________________________________\n"
     ]
    }
   ],
   "source": [
    "vgg.summary()"
   ]
  },
  {
   "cell_type": "code",
   "execution_count": 6,
   "metadata": {},
   "outputs": [],
   "source": [
    "# Getting number of outpur classes\n",
    "folders = glob(r'C:\\Users\\admin\\Desktop\\Projects\\My Malaria Detection Project\\Dataset\\Train\\*')"
   ]
  },
  {
   "cell_type": "code",
   "execution_count": 7,
   "metadata": {},
   "outputs": [
    {
     "data": {
      "text/plain": [
       "['C:\\\\Users\\\\admin\\\\Desktop\\\\Projects\\\\My Malaria Detection Project\\\\Dataset\\\\Train\\\\Parasite',\n",
       " 'C:\\\\Users\\\\admin\\\\Desktop\\\\Projects\\\\My Malaria Detection Project\\\\Dataset\\\\Train\\\\Uninfected']"
      ]
     },
     "execution_count": 7,
     "metadata": {},
     "output_type": "execute_result"
    }
   ],
   "source": [
    "folders"
   ]
  },
  {
   "cell_type": "code",
   "execution_count": 8,
   "metadata": {},
   "outputs": [],
   "source": [
    "# Create Flatten and Dense layers\n",
    "x = Flatten()(vgg.output)\n",
    "prediction = Dense(units=len(folders), activation='softmax')(x)"
   ]
  },
  {
   "cell_type": "code",
   "execution_count": 9,
   "metadata": {},
   "outputs": [],
   "source": [
    "# Create a model object\n",
    "model = Model(inputs=vgg.input, outputs=prediction)"
   ]
  },
  {
   "cell_type": "code",
   "execution_count": 10,
   "metadata": {},
   "outputs": [
    {
     "name": "stdout",
     "output_type": "stream",
     "text": [
      "Model: \"functional_1\"\n",
      "_________________________________________________________________\n",
      "Layer (type)                 Output Shape              Param #   \n",
      "=================================================================\n",
      "input_1 (InputLayer)         [(None, 224, 224, 3)]     0         \n",
      "_________________________________________________________________\n",
      "block1_conv1 (Conv2D)        (None, 224, 224, 64)      1792      \n",
      "_________________________________________________________________\n",
      "block1_conv2 (Conv2D)        (None, 224, 224, 64)      36928     \n",
      "_________________________________________________________________\n",
      "block1_pool (MaxPooling2D)   (None, 112, 112, 64)      0         \n",
      "_________________________________________________________________\n",
      "block2_conv1 (Conv2D)        (None, 112, 112, 128)     73856     \n",
      "_________________________________________________________________\n",
      "block2_conv2 (Conv2D)        (None, 112, 112, 128)     147584    \n",
      "_________________________________________________________________\n",
      "block2_pool (MaxPooling2D)   (None, 56, 56, 128)       0         \n",
      "_________________________________________________________________\n",
      "block3_conv1 (Conv2D)        (None, 56, 56, 256)       295168    \n",
      "_________________________________________________________________\n",
      "block3_conv2 (Conv2D)        (None, 56, 56, 256)       590080    \n",
      "_________________________________________________________________\n",
      "block3_conv3 (Conv2D)        (None, 56, 56, 256)       590080    \n",
      "_________________________________________________________________\n",
      "block3_conv4 (Conv2D)        (None, 56, 56, 256)       590080    \n",
      "_________________________________________________________________\n",
      "block3_pool (MaxPooling2D)   (None, 28, 28, 256)       0         \n",
      "_________________________________________________________________\n",
      "block4_conv1 (Conv2D)        (None, 28, 28, 512)       1180160   \n",
      "_________________________________________________________________\n",
      "block4_conv2 (Conv2D)        (None, 28, 28, 512)       2359808   \n",
      "_________________________________________________________________\n",
      "block4_conv3 (Conv2D)        (None, 28, 28, 512)       2359808   \n",
      "_________________________________________________________________\n",
      "block4_conv4 (Conv2D)        (None, 28, 28, 512)       2359808   \n",
      "_________________________________________________________________\n",
      "block4_pool (MaxPooling2D)   (None, 14, 14, 512)       0         \n",
      "_________________________________________________________________\n",
      "block5_conv1 (Conv2D)        (None, 14, 14, 512)       2359808   \n",
      "_________________________________________________________________\n",
      "block5_conv2 (Conv2D)        (None, 14, 14, 512)       2359808   \n",
      "_________________________________________________________________\n",
      "block5_conv3 (Conv2D)        (None, 14, 14, 512)       2359808   \n",
      "_________________________________________________________________\n",
      "block5_conv4 (Conv2D)        (None, 14, 14, 512)       2359808   \n",
      "_________________________________________________________________\n",
      "block5_pool (MaxPooling2D)   (None, 7, 7, 512)         0         \n",
      "_________________________________________________________________\n",
      "flatten (Flatten)            (None, 25088)             0         \n",
      "_________________________________________________________________\n",
      "dense (Dense)                (None, 2)                 50178     \n",
      "=================================================================\n",
      "Total params: 20,074,562\n",
      "Trainable params: 50,178\n",
      "Non-trainable params: 20,024,384\n",
      "_________________________________________________________________\n"
     ]
    }
   ],
   "source": [
    "# View the structure of the model\n",
    "model.summary()"
   ]
  },
  {
   "cell_type": "markdown",
   "metadata": {},
   "source": [
    "## Creating own CNN"
   ]
  },
  {
   "cell_type": "code",
   "execution_count": 11,
   "metadata": {},
   "outputs": [],
   "source": [
    "from keras.models import Sequential\n",
    "from keras.layers import Conv2D\n",
    "from keras.layers import MaxPooling2D\n",
    "from keras.layers import Flatten\n",
    "from keras.layers import Dense\n",
    "from keras.preprocessing import image"
   ]
  },
  {
   "cell_type": "code",
   "execution_count": 12,
   "metadata": {},
   "outputs": [],
   "source": [
    "cnn = Sequential()"
   ]
  },
  {
   "cell_type": "code",
   "execution_count": 13,
   "metadata": {},
   "outputs": [],
   "source": [
    "cnn.add(Conv2D(16, (3,3), input_shape=(224,224,3), activation='relu', padding='same'))\n",
    "cnn.add(MaxPooling2D(pool_size=(2,2)))"
   ]
  },
  {
   "cell_type": "code",
   "execution_count": 14,
   "metadata": {},
   "outputs": [],
   "source": [
    "cnn.add(Conv2D(32, (3,3), input_shape=(224,224,3), activation='relu', padding='same'))\n",
    "cnn.add(MaxPooling2D(pool_size=(2,2)))"
   ]
  },
  {
   "cell_type": "code",
   "execution_count": 15,
   "metadata": {},
   "outputs": [],
   "source": [
    "cnn.add(Conv2D(64, (3,3), input_shape=(224,224,3), activation='relu', padding='same'))\n",
    "cnn.add(Conv2D(64, (3,3), input_shape=(224,224,3), activation='relu', padding='same'))\n",
    "cnn.add(MaxPooling2D(pool_size=(2,2)))"
   ]
  },
  {
   "cell_type": "code",
   "execution_count": 16,
   "metadata": {},
   "outputs": [],
   "source": [
    "cnn.add(Flatten())"
   ]
  },
  {
   "cell_type": "code",
   "execution_count": 17,
   "metadata": {},
   "outputs": [],
   "source": [
    "cnn.add(Dense(units=500, activation='relu'))\n",
    "cnn.add(Dense(units=256, activation='relu'))\n",
    "cnn.add(Dense(units=2, activation='softmax'))"
   ]
  },
  {
   "cell_type": "code",
   "execution_count": 18,
   "metadata": {},
   "outputs": [
    {
     "name": "stdout",
     "output_type": "stream",
     "text": [
      "Model: \"sequential\"\n",
      "_________________________________________________________________\n",
      "Layer (type)                 Output Shape              Param #   \n",
      "=================================================================\n",
      "conv2d (Conv2D)              (None, 224, 224, 16)      448       \n",
      "_________________________________________________________________\n",
      "max_pooling2d (MaxPooling2D) (None, 112, 112, 16)      0         \n",
      "_________________________________________________________________\n",
      "conv2d_1 (Conv2D)            (None, 112, 112, 32)      4640      \n",
      "_________________________________________________________________\n",
      "max_pooling2d_1 (MaxPooling2 (None, 56, 56, 32)        0         \n",
      "_________________________________________________________________\n",
      "conv2d_2 (Conv2D)            (None, 56, 56, 64)        18496     \n",
      "_________________________________________________________________\n",
      "conv2d_3 (Conv2D)            (None, 56, 56, 64)        36928     \n",
      "_________________________________________________________________\n",
      "max_pooling2d_2 (MaxPooling2 (None, 28, 28, 64)        0         \n",
      "_________________________________________________________________\n",
      "flatten_1 (Flatten)          (None, 50176)             0         \n",
      "_________________________________________________________________\n",
      "dense_1 (Dense)              (None, 500)               25088500  \n",
      "_________________________________________________________________\n",
      "dense_2 (Dense)              (None, 256)               128256    \n",
      "_________________________________________________________________\n",
      "dense_3 (Dense)              (None, 2)                 514       \n",
      "=================================================================\n",
      "Total params: 25,277,782\n",
      "Trainable params: 25,277,782\n",
      "Non-trainable params: 0\n",
      "_________________________________________________________________\n"
     ]
    }
   ],
   "source": [
    "cnn.summary()"
   ]
  },
  {
   "cell_type": "code",
   "execution_count": 19,
   "metadata": {},
   "outputs": [],
   "source": [
    "cnn.compile(optimizer='adam', loss='categorical_crossentropy', metrics=['accuracy'])"
   ]
  },
  {
   "cell_type": "code",
   "execution_count": 20,
   "metadata": {},
   "outputs": [
    {
     "name": "stdout",
     "output_type": "stream",
     "text": [
      "Found 416 images belonging to 2 classes.\n"
     ]
    }
   ],
   "source": [
    "# Preprocessing the training images\n",
    "training_datagen = image.ImageDataGenerator(rescale=1./255,\n",
    "                                           shear_range=0.2,\n",
    "                                           zoom_range=0.2,\n",
    "                                           horizontal_flip=True)\n",
    "training_dataset = training_datagen.flow_from_directory(r'C:\\Users\\admin\\Desktop\\Projects\\My Malaria Detection Project\\Dataset\\Train',\n",
    "                                                       target_size=(224,224),\n",
    "                                                       batch_size=20,\n",
    "                                                       class_mode='categorical')"
   ]
  },
  {
   "cell_type": "code",
   "execution_count": 21,
   "metadata": {},
   "outputs": [
    {
     "name": "stdout",
     "output_type": "stream",
     "text": [
      "Found 134 images belonging to 2 classes.\n"
     ]
    }
   ],
   "source": [
    "# Preprocessing the test images\n",
    "test_datagen = image.ImageDataGenerator(rescale=1./255)\n",
    "test_dataset = test_datagen.flow_from_directory(r'C:\\Users\\admin\\Desktop\\Projects\\My Malaria Detection Project\\Dataset\\Test',\n",
    "                                                target_size=(224,224),\n",
    "                                                batch_size=20,\n",
    "                                                class_mode='categorical')"
   ]
  },
  {
   "cell_type": "code",
   "execution_count": 22,
   "metadata": {},
   "outputs": [
    {
     "name": "stdout",
     "output_type": "stream",
     "text": [
      "WARNING:tensorflow:From <ipython-input-22-c401e521e6de>:3: Model.fit_generator (from tensorflow.python.keras.engine.training) is deprecated and will be removed in a future version.\n",
      "Instructions for updating:\n",
      "Please use Model.fit, which supports generators.\n",
      "Epoch 1/50\n",
      "21/21 [==============================] - 8s 404ms/step - loss: 1.0033 - accuracy: 0.4928 - val_loss: 0.6918 - val_accuracy: 0.6791\n",
      "Epoch 2/50\n",
      "21/21 [==============================] - 8s 390ms/step - loss: 0.6925 - accuracy: 0.5288 - val_loss: 0.6857 - val_accuracy: 0.6791\n",
      "Epoch 3/50\n",
      "21/21 [==============================] - 8s 392ms/step - loss: 0.6983 - accuracy: 0.5096 - val_loss: 0.6885 - val_accuracy: 0.6866\n",
      "Epoch 4/50\n",
      "21/21 [==============================] - 8s 388ms/step - loss: 0.6891 - accuracy: 0.5481 - val_loss: 0.6727 - val_accuracy: 0.6791\n",
      "Epoch 5/50\n",
      "21/21 [==============================] - 8s 391ms/step - loss: 0.6813 - accuracy: 0.5793 - val_loss: 0.6320 - val_accuracy: 0.6791\n",
      "Epoch 6/50\n",
      "21/21 [==============================] - 8s 392ms/step - loss: 0.6674 - accuracy: 0.5697 - val_loss: 0.7451 - val_accuracy: 0.4104\n",
      "Epoch 7/50\n",
      "21/21 [==============================] - 8s 394ms/step - loss: 0.6474 - accuracy: 0.6394 - val_loss: 0.6785 - val_accuracy: 0.5597\n",
      "Epoch 8/50\n",
      "21/21 [==============================] - 8s 397ms/step - loss: 0.5564 - accuracy: 0.7260 - val_loss: 0.5920 - val_accuracy: 0.6791\n",
      "Epoch 9/50\n",
      "21/21 [==============================] - 8s 396ms/step - loss: 0.3654 - accuracy: 0.8678 - val_loss: 0.6473 - val_accuracy: 0.7313\n",
      "Epoch 10/50\n",
      "21/21 [==============================] - 8s 390ms/step - loss: 0.1911 - accuracy: 0.9231 - val_loss: 0.6115 - val_accuracy: 0.7463\n",
      "Epoch 11/50\n",
      "21/21 [==============================] - 8s 389ms/step - loss: 0.3990 - accuracy: 0.7909 - val_loss: 0.6746 - val_accuracy: 0.5896\n",
      "Epoch 12/50\n",
      "21/21 [==============================] - 8s 391ms/step - loss: 0.5208 - accuracy: 0.7885 - val_loss: 0.4349 - val_accuracy: 0.7687\n",
      "Epoch 13/50\n",
      "21/21 [==============================] - 8s 389ms/step - loss: 0.3385 - accuracy: 0.9183 - val_loss: 0.4090 - val_accuracy: 0.8134\n",
      "Epoch 14/50\n",
      "21/21 [==============================] - 8s 390ms/step - loss: 0.2000 - accuracy: 0.9471 - val_loss: 0.5460 - val_accuracy: 0.7612\n",
      "Epoch 15/50\n",
      "21/21 [==============================] - 8s 392ms/step - loss: 0.2315 - accuracy: 0.9255 - val_loss: 0.2981 - val_accuracy: 0.8806\n",
      "Epoch 16/50\n",
      "21/21 [==============================] - 8s 389ms/step - loss: 0.1384 - accuracy: 0.9591 - val_loss: 0.3281 - val_accuracy: 0.8955\n",
      "Epoch 17/50\n",
      "21/21 [==============================] - 8s 392ms/step - loss: 0.0931 - accuracy: 0.9688 - val_loss: 0.3043 - val_accuracy: 0.8955\n",
      "Epoch 18/50\n",
      "21/21 [==============================] - 8s 392ms/step - loss: 0.1105 - accuracy: 0.9760 - val_loss: 0.4278 - val_accuracy: 0.8731\n",
      "Epoch 19/50\n",
      "21/21 [==============================] - 8s 390ms/step - loss: 0.1770 - accuracy: 0.9399 - val_loss: 0.3209 - val_accuracy: 0.8657\n",
      "Epoch 20/50\n",
      "21/21 [==============================] - 8s 393ms/step - loss: 0.1307 - accuracy: 0.9639 - val_loss: 0.1802 - val_accuracy: 0.9403\n",
      "Epoch 21/50\n",
      "21/21 [==============================] - 8s 393ms/step - loss: 0.0903 - accuracy: 0.9784 - val_loss: 0.1790 - val_accuracy: 0.9403\n",
      "Epoch 22/50\n",
      "21/21 [==============================] - 8s 391ms/step - loss: 0.0673 - accuracy: 0.9904 - val_loss: 0.4680 - val_accuracy: 0.8881\n",
      "Epoch 23/50\n",
      "21/21 [==============================] - 8s 393ms/step - loss: 0.2410 - accuracy: 0.9351 - val_loss: 0.3831 - val_accuracy: 0.8358\n",
      "Epoch 24/50\n",
      "21/21 [==============================] - 8s 392ms/step - loss: 0.1481 - accuracy: 0.9519 - val_loss: 0.2494 - val_accuracy: 0.9030\n",
      "Epoch 25/50\n",
      "21/21 [==============================] - 8s 392ms/step - loss: 0.0624 - accuracy: 0.9856 - val_loss: 0.3007 - val_accuracy: 0.9030\n",
      "Epoch 26/50\n",
      "21/21 [==============================] - 8s 393ms/step - loss: 0.0557 - accuracy: 0.9856 - val_loss: 0.4204 - val_accuracy: 0.8955\n",
      "Epoch 27/50\n",
      "21/21 [==============================] - 8s 393ms/step - loss: 0.0491 - accuracy: 0.9880 - val_loss: 0.3282 - val_accuracy: 0.9179\n",
      "Epoch 28/50\n",
      "21/21 [==============================] - 8s 391ms/step - loss: 0.0560 - accuracy: 0.9832 - val_loss: 0.2270 - val_accuracy: 0.9328\n",
      "Epoch 29/50\n",
      "21/21 [==============================] - 8s 391ms/step - loss: 0.0696 - accuracy: 0.9808 - val_loss: 0.2802 - val_accuracy: 0.9104\n",
      "Epoch 30/50\n",
      "21/21 [==============================] - 8s 394ms/step - loss: 0.0493 - accuracy: 0.9880 - val_loss: 0.2279 - val_accuracy: 0.9403\n",
      "Epoch 31/50\n",
      "21/21 [==============================] - 8s 389ms/step - loss: 0.0516 - accuracy: 0.9904 - val_loss: 0.5102 - val_accuracy: 0.8881\n",
      "Epoch 32/50\n",
      "21/21 [==============================] - 8s 395ms/step - loss: 0.1648 - accuracy: 0.9519 - val_loss: 0.2677 - val_accuracy: 0.8881\n",
      "Epoch 33/50\n",
      "21/21 [==============================] - 8s 390ms/step - loss: 0.0739 - accuracy: 0.9832 - val_loss: 0.1726 - val_accuracy: 0.9328\n",
      "Epoch 34/50\n",
      "21/21 [==============================] - 8s 400ms/step - loss: 0.0508 - accuracy: 0.9856 - val_loss: 0.2229 - val_accuracy: 0.9328\n",
      "Epoch 35/50\n",
      "21/21 [==============================] - 8s 389ms/step - loss: 0.1356 - accuracy: 0.9591 - val_loss: 0.3254 - val_accuracy: 0.8657\n",
      "Epoch 36/50\n",
      "21/21 [==============================] - 8s 389ms/step - loss: 0.1441 - accuracy: 0.9567 - val_loss: 0.2243 - val_accuracy: 0.9104\n",
      "Epoch 37/50\n",
      "21/21 [==============================] - 8s 392ms/step - loss: 0.0546 - accuracy: 0.9904 - val_loss: 0.1100 - val_accuracy: 0.9627\n",
      "Epoch 38/50\n",
      "21/21 [==============================] - 8s 400ms/step - loss: 0.0301 - accuracy: 0.9928 - val_loss: 3.5260 - val_accuracy: 0.8358\n",
      "Epoch 39/50\n",
      "21/21 [==============================] - 8s 391ms/step - loss: 0.7176 - accuracy: 0.7067 - val_loss: 0.6872 - val_accuracy: 0.6791\n",
      "Epoch 40/50\n",
      "21/21 [==============================] - 8s 393ms/step - loss: 0.5807 - accuracy: 0.6202 - val_loss: 1.0635 - val_accuracy: 0.6791\n",
      "Epoch 41/50\n",
      "21/21 [==============================] - 8s 392ms/step - loss: 0.6155 - accuracy: 0.6514 - val_loss: 0.6978 - val_accuracy: 0.4328\n",
      "Epoch 42/50\n",
      "21/21 [==============================] - 8s 393ms/step - loss: 0.6804 - accuracy: 0.7404 - val_loss: 0.6805 - val_accuracy: 0.5224\n",
      "Epoch 43/50\n",
      "21/21 [==============================] - 8s 399ms/step - loss: 0.5337 - accuracy: 0.8101 - val_loss: 0.6398 - val_accuracy: 0.6791\n",
      "Epoch 44/50\n",
      "21/21 [==============================] - 8s 387ms/step - loss: 0.5511 - accuracy: 0.6947 - val_loss: 0.7351 - val_accuracy: 0.3955\n",
      "Epoch 45/50\n",
      "21/21 [==============================] - 8s 392ms/step - loss: 0.5840 - accuracy: 0.7764 - val_loss: 0.6813 - val_accuracy: 0.5299\n",
      "Epoch 46/50\n",
      "21/21 [==============================] - 8s 388ms/step - loss: 0.3786 - accuracy: 0.8389 - val_loss: 0.6067 - val_accuracy: 0.6343\n",
      "Epoch 47/50\n",
      "21/21 [==============================] - 8s 390ms/step - loss: 0.2693 - accuracy: 0.8990 - val_loss: 0.6005 - val_accuracy: 0.6716\n",
      "Epoch 48/50\n",
      "21/21 [==============================] - 8s 390ms/step - loss: 0.2778 - accuracy: 0.8942 - val_loss: 0.5265 - val_accuracy: 0.7388\n",
      "Epoch 49/50\n",
      "21/21 [==============================] - 8s 388ms/step - loss: 1.0773 - accuracy: 0.8942 - val_loss: 0.6271 - val_accuracy: 0.7090\n",
      "Epoch 50/50\n",
      "21/21 [==============================] - 8s 386ms/step - loss: 0.2792 - accuracy: 0.8846 - val_loss: 0.4511 - val_accuracy: 0.7910\n"
     ]
    }
   ],
   "source": [
    "# Fit the model\n",
    "\n",
    "r = cnn.fit_generator(training_dataset, validation_data=test_dataset,\n",
    "                       epochs=50,\n",
    "                       steps_per_epoch=len(training_dataset),\n",
    "                       validation_steps=len(test_dataset))"
   ]
  },
  {
   "cell_type": "code",
   "execution_count": 23,
   "metadata": {},
   "outputs": [
    {
     "data": {
      "image/png": "[encoded data removed]",
      "text/plain": [
       "<Figure size 432x288 with 1 Axes>"
      ]
     },
     "metadata": {
      "needs_background": "light"
     },
     "output_type": "display_data"
    },
    {
     "data": {
      "image/png": "[encoded data removed]",
      "text/plain": [
       "<Figure size 432x288 with 1 Axes>"
      ]
     },
     "metadata": {
      "needs_background": "light"
     },
     "output_type": "display_data"
    },
    {
     "data": {
      "text/plain": [
       "<Figure size 432x288 with 0 Axes>"
      ]
     },
     "metadata": {},
     "output_type": "display_data"
    }
   ],
   "source": [
    "# plot the loss\n",
    "import matplotlib.pyplot as plt\n",
    "plt.plot(r.history['loss'], label='train loss')\n",
    "plt.plot(r.history['val_loss'], label='val loss')\n",
    "plt.legend()\n",
    "plt.show()\n",
    "plt.savefig('LossVal_loss')\n",
    "\n",
    "# plot the accuracy\n",
    "plt.plot(r.history['accuracy'], label='train acc')\n",
    "plt.plot(r.history['val_accuracy'], label='val acc')\n",
    "plt.legend()\n",
    "plt.show()\n",
    "plt.savefig('AccVal_acc')"
   ]
  },
  {
   "cell_type": "code",
   "execution_count": 24,
   "metadata": {},
   "outputs": [],
   "source": [
    "y_pred = cnn.predict(test_dataset)"
   ]
  },
  {
   "cell_type": "code",
   "execution_count": 25,
   "metadata": {},
   "outputs": [
    {
     "data": {
      "text/plain": [
       "array([[1.6662227e-01, 8.3337778e-01],\n",
       "       [8.0264527e-01, 1.9735472e-01],\n",
       "       [1.0000000e+00, 1.4688027e-14],\n",
       "       [1.6662227e-01, 8.3337778e-01],\n",
       "       [1.0000000e+00, 6.0466003e-14],\n",
       "       [1.6662227e-01, 8.3337778e-01],\n",
       "       [1.6662227e-01, 8.3337778e-01],\n",
       "       [1.6685314e-01, 8.3314693e-01],\n",
       "       [1.6662227e-01, 8.3337778e-01],\n",
       "       [1.6662227e-01, 8.3337778e-01],\n",
       "       [1.0000000e+00, 1.4836004e-08],\n",
       "       [1.0000000e+00, 1.5006182e-13],\n",
       "       [1.6662227e-01, 8.3337778e-01],\n",
       "       [1.6662227e-01, 8.3337778e-01],\n",
       "       [1.6662227e-01, 8.3337778e-01],\n",
       "       [1.6662227e-01, 8.3337778e-01],\n",
       "       [1.6662227e-01, 8.3337778e-01],\n",
       "       [1.6662227e-01, 8.3337778e-01],\n",
       "       [1.6662227e-01, 8.3337778e-01],\n",
       "       [1.6662227e-01, 8.3337778e-01],\n",
       "       [1.6662227e-01, 8.3337778e-01],\n",
       "       [1.0000000e+00, 1.8560889e-33],\n",
       "       [9.9291068e-01, 7.0893294e-03],\n",
       "       [1.6662227e-01, 8.3337778e-01],\n",
       "       [9.0907210e-01, 9.0927973e-02],\n",
       "       [9.9999976e-01, 2.1326639e-07],\n",
       "       [1.0000000e+00, 4.5160888e-08],\n",
       "       [9.8663121e-01, 1.3368764e-02],\n",
       "       [1.6662227e-01, 8.3337778e-01],\n",
       "       [1.0000000e+00, 1.3457727e-19],\n",
       "       [9.9775356e-01, 2.2464392e-03],\n",
       "       [1.6662227e-01, 8.3337778e-01],\n",
       "       [9.9999976e-01, 2.7051962e-07],\n",
       "       [1.0000000e+00, 1.2508741e-15],\n",
       "       [1.0000000e+00, 2.4522823e-21],\n",
       "       [1.0000000e+00, 6.8766219e-22],\n",
       "       [1.6662227e-01, 8.3337778e-01],\n",
       "       [1.6662227e-01, 8.3337778e-01],\n",
       "       [9.9999988e-01, 1.1723073e-07],\n",
       "       [9.9992740e-01, 7.2565897e-05],\n",
       "       [9.6714693e-01, 3.2853011e-02],\n",
       "       [9.9997711e-01, 2.2880697e-05],\n",
       "       [1.0000000e+00, 4.3406659e-10],\n",
       "       [5.9350175e-01, 4.0649822e-01],\n",
       "       [1.0000000e+00, 1.6360189e-11],\n",
       "       [9.6875083e-01, 3.1249149e-02],\n",
       "       [2.0809534e-01, 7.9190463e-01],\n",
       "       [1.6662227e-01, 8.3337778e-01],\n",
       "       [1.6662227e-01, 8.3337778e-01],\n",
       "       [9.9990952e-01, 9.0525653e-05],\n",
       "       [1.6662227e-01, 8.3337778e-01],\n",
       "       [1.0000000e+00, 2.5506553e-18],\n",
       "       [1.0000000e+00, 8.6657989e-18],\n",
       "       [9.9999952e-01, 4.6090184e-07],\n",
       "       [1.6662227e-01, 8.3337778e-01],\n",
       "       [9.8731452e-01, 1.2685520e-02],\n",
       "       [1.6662227e-01, 8.3337778e-01],\n",
       "       [1.6662227e-01, 8.3337778e-01],\n",
       "       [9.9997997e-01, 1.9999978e-05],\n",
       "       [1.0000000e+00, 1.1460675e-09],\n",
       "       [1.6662227e-01, 8.3337778e-01],\n",
       "       [5.9272832e-01, 4.0727165e-01],\n",
       "       [1.6667555e-01, 8.3332443e-01],\n",
       "       [1.6662227e-01, 8.3337778e-01],\n",
       "       [1.6662075e-01, 8.3337927e-01],\n",
       "       [9.9999988e-01, 8.1955207e-08],\n",
       "       [7.7749944e-01, 2.2250059e-01],\n",
       "       [1.0000000e+00, 4.3645200e-20],\n",
       "       [1.0000000e+00, 7.7837606e-16],\n",
       "       [1.6662227e-01, 8.3337778e-01],\n",
       "       [1.0000000e+00, 8.0913034e-15],\n",
       "       [1.6662227e-01, 8.3337778e-01],\n",
       "       [9.9992573e-01, 7.4248092e-05],\n",
       "       [1.6662227e-01, 8.3337778e-01],\n",
       "       [1.6662227e-01, 8.3337778e-01],\n",
       "       [1.6662227e-01, 8.3337778e-01],\n",
       "       [1.6662227e-01, 8.3337778e-01],\n",
       "       [9.9866521e-01, 1.3347828e-03],\n",
       "       [1.0000000e+00, 4.3419587e-17],\n",
       "       [9.9997473e-01, 2.5229410e-05],\n",
       "       [1.0000000e+00, 3.3200786e-13],\n",
       "       [1.6662227e-01, 8.3337778e-01],\n",
       "       [1.6662227e-01, 8.3337778e-01],\n",
       "       [1.0000000e+00, 4.7099168e-13],\n",
       "       [9.9606824e-01, 3.9317287e-03],\n",
       "       [1.6662227e-01, 8.3337778e-01],\n",
       "       [3.3545449e-01, 6.6454554e-01],\n",
       "       [1.6662227e-01, 8.3337778e-01],\n",
       "       [1.6662227e-01, 8.3337778e-01],\n",
       "       [9.9999344e-01, 6.6097318e-06],\n",
       "       [1.0000000e+00, 1.4613954e-13],\n",
       "       [1.6662227e-01, 8.3337778e-01],\n",
       "       [1.0000000e+00, 4.1440948e-11],\n",
       "       [1.6662227e-01, 8.3337778e-01],\n",
       "       [1.6662227e-01, 8.3337778e-01],\n",
       "       [1.6662227e-01, 8.3337778e-01],\n",
       "       [1.0000000e+00, 4.8946009e-19],\n",
       "       [1.6662227e-01, 8.3337778e-01],\n",
       "       [6.6573989e-01, 3.3426014e-01],\n",
       "       [1.6662227e-01, 8.3337778e-01],\n",
       "       [1.6662227e-01, 8.3337778e-01],\n",
       "       [1.6662227e-01, 8.3337778e-01],\n",
       "       [1.6662227e-01, 8.3337778e-01],\n",
       "       [1.6662227e-01, 8.3337778e-01],\n",
       "       [1.0000000e+00, 5.7094324e-21],\n",
       "       [1.6662227e-01, 8.3337778e-01],\n",
       "       [1.6662227e-01, 8.3337778e-01],\n",
       "       [9.7099465e-01, 2.9005384e-02],\n",
       "       [9.9999940e-01, 6.4850582e-07],\n",
       "       [1.6662227e-01, 8.3337778e-01],\n",
       "       [1.0000000e+00, 9.6745988e-24],\n",
       "       [1.0000000e+00, 2.5936417e-17],\n",
       "       [3.2245836e-01, 6.7754167e-01],\n",
       "       [5.8974743e-01, 4.1025257e-01],\n",
       "       [7.6296240e-01, 2.3703760e-01],\n",
       "       [1.6662227e-01, 8.3337778e-01],\n",
       "       [1.6662227e-01, 8.3337778e-01],\n",
       "       [1.0000000e+00, 4.5464923e-20],\n",
       "       [1.0000000e+00, 3.5857144e-09],\n",
       "       [8.1982821e-01, 1.8017173e-01],\n",
       "       [1.6662227e-01, 8.3337778e-01],\n",
       "       [1.6662227e-01, 8.3337778e-01],\n",
       "       [1.6662227e-01, 8.3337778e-01],\n",
       "       [5.4248029e-01, 4.5751971e-01],\n",
       "       [1.6662227e-01, 8.3337778e-01],\n",
       "       [1.6662227e-01, 8.3337778e-01],\n",
       "       [1.6662227e-01, 8.3337778e-01],\n",
       "       [7.7261978e-01, 2.2738017e-01],\n",
       "       [1.6662227e-01, 8.3337778e-01],\n",
       "       [1.6662227e-01, 8.3337778e-01],\n",
       "       [1.6662227e-01, 8.3337778e-01],\n",
       "       [1.6662227e-01, 8.3337778e-01],\n",
       "       [1.6662227e-01, 8.3337778e-01],\n",
       "       [1.0000000e+00, 8.5612006e-21]], dtype=float32)"
      ]
     },
     "execution_count": 25,
     "metadata": {},
     "output_type": "execute_result"
    }
   ],
   "source": [
    "y_pred"
   ]
  },
  {
   "cell_type": "code",
   "execution_count": 26,
   "metadata": {},
   "outputs": [
    {
     "data": {
      "text/plain": [
       "array([1, 0, 0, 1, 0, 1, 1, 1, 1, 1, 0, 0, 1, 1, 1, 1, 1, 1, 1, 1, 1, 0,\n",
       "       0, 1, 0, 0, 0, 0, 1, 0, 0, 1, 0, 0, 0, 0, 1, 1, 0, 0, 0, 0, 0, 0,\n",
       "       0, 0, 1, 1, 1, 0, 1, 0, 0, 0, 1, 0, 1, 1, 0, 0, 1, 0, 1, 1, 1, 0,\n",
       "       0, 0, 0, 1, 0, 1, 0, 1, 1, 1, 1, 0, 0, 0, 0, 1, 1, 0, 0, 1, 1, 1,\n",
       "       1, 0, 0, 1, 0, 1, 1, 1, 0, 1, 0, 1, 1, 1, 1, 1, 0, 1, 1, 0, 0, 1,\n",
       "       0, 0, 1, 0, 0, 1, 1, 0, 0, 0, 1, 1, 1, 0, 1, 1, 1, 0, 1, 1, 1, 1,\n",
       "       1, 0], dtype=int64)"
      ]
     },
     "execution_count": 26,
     "metadata": {},
     "output_type": "execute_result"
    }
   ],
   "source": [
    "import numpy as np\n",
    "y_pred = np.argmax(y_pred, axis=1)\n",
    "y_pred"
   ]
  },
  {
   "cell_type": "code",
   "execution_count": 27,
   "metadata": {},
   "outputs": [],
   "source": [
    "# Save the model\n",
    "cnn.save('model.h5')"
   ]
  },
  {
   "cell_type": "code",
   "execution_count": 28,
   "metadata": {},
   "outputs": [],
   "source": [
    "# Load the model and do the prediction for one image\n",
    "from keras.models import load_model"
   ]
  },
  {
   "cell_type": "code",
   "execution_count": 29,
   "metadata": {},
   "outputs": [],
   "source": [
    "model = load_model('model.h5')"
   ]
  },
  {
   "cell_type": "code",
   "execution_count": 30,
   "metadata": {},
   "outputs": [],
   "source": [
    "img = image.load_img(r'C:\\Users\\admin\\Desktop\\Projects\\My Malaria Detection Project\\Dataset\\Test\\Uninfected\\2.png',\n",
    "                    target_size=(224,224))"
   ]
  },
  {
   "cell_type": "code",
   "execution_count": 31,
   "metadata": {},
   "outputs": [
    {
     "data": {
      "text/plain": [
       "array([[[0., 0., 0.],\n",
       "        [0., 0., 0.],\n",
       "        [0., 0., 0.],\n",
       "        ...,\n",
       "        [0., 0., 0.],\n",
       "        [0., 0., 0.],\n",
       "        [0., 0., 0.]],\n",
       "\n",
       "       [[0., 0., 0.],\n",
       "        [0., 0., 0.],\n",
       "        [0., 0., 0.],\n",
       "        ...,\n",
       "        [0., 0., 0.],\n",
       "        [0., 0., 0.],\n",
       "        [0., 0., 0.]],\n",
       "\n",
       "       [[0., 0., 0.],\n",
       "        [0., 0., 0.],\n",
       "        [0., 0., 0.],\n",
       "        ...,\n",
       "        [0., 0., 0.],\n",
       "        [0., 0., 0.],\n",
       "        [0., 0., 0.]],\n",
       "\n",
       "       ...,\n",
       "\n",
       "       [[0., 0., 0.],\n",
       "        [0., 0., 0.],\n",
       "        [0., 0., 0.],\n",
       "        ...,\n",
       "        [0., 0., 0.],\n",
       "        [0., 0., 0.],\n",
       "        [0., 0., 0.]],\n",
       "\n",
       "       [[0., 0., 0.],\n",
       "        [0., 0., 0.],\n",
       "        [0., 0., 0.],\n",
       "        ...,\n",
       "        [0., 0., 0.],\n",
       "        [0., 0., 0.],\n",
       "        [0., 0., 0.]],\n",
       "\n",
       "       [[0., 0., 0.],\n",
       "        [0., 0., 0.],\n",
       "        [0., 0., 0.],\n",
       "        ...,\n",
       "        [0., 0., 0.],\n",
       "        [0., 0., 0.],\n",
       "        [0., 0., 0.]]], dtype=float32)"
      ]
     },
     "execution_count": 31,
     "metadata": {},
     "output_type": "execute_result"
    }
   ],
   "source": [
    "x = image.img_to_array(img)\n",
    "x"
   ]
  },
  {
   "cell_type": "code",
   "execution_count": 32,
   "metadata": {},
   "outputs": [
    {
     "data": {
      "text/plain": [
       "(224, 224, 3)"
      ]
     },
     "execution_count": 32,
     "metadata": {},
     "output_type": "execute_result"
    }
   ],
   "source": [
    "x.shape"
   ]
  },
  {
   "cell_type": "code",
   "execution_count": 33,
   "metadata": {},
   "outputs": [],
   "source": [
    "# Normalization\n",
    "x = x/225"
   ]
  },
  {
   "cell_type": "code",
   "execution_count": 34,
   "metadata": {},
   "outputs": [],
   "source": [
    "x = np.expand_dims(x, axis=0)"
   ]
  },
  {
   "cell_type": "code",
   "execution_count": 35,
   "metadata": {},
   "outputs": [
    {
     "data": {
      "text/plain": [
       "(1, 224, 224, 3)"
      ]
     },
     "execution_count": 35,
     "metadata": {},
     "output_type": "execute_result"
    }
   ],
   "source": [
    "x.shape"
   ]
  },
  {
   "cell_type": "code",
   "execution_count": 36,
   "metadata": {},
   "outputs": [],
   "source": [
    "from keras.applications.resnet50 import preprocess_input"
   ]
  },
  {
   "cell_type": "code",
   "execution_count": 37,
   "metadata": {},
   "outputs": [],
   "source": [
    "pred_image = preprocess_input(x)"
   ]
  },
  {
   "cell_type": "code",
   "execution_count": 38,
   "metadata": {},
   "outputs": [
    {
     "data": {
      "text/plain": [
       "array([[[[-103.939, -116.779, -123.68 ],\n",
       "         [-103.939, -116.779, -123.68 ],\n",
       "         [-103.939, -116.779, -123.68 ],\n",
       "         ...,\n",
       "         [-103.939, -116.779, -123.68 ],\n",
       "         [-103.939, -116.779, -123.68 ],\n",
       "         [-103.939, -116.779, -123.68 ]],\n",
       "\n",
       "        [[-103.939, -116.779, -123.68 ],\n",
       "         [-103.939, -116.779, -123.68 ],\n",
       "         [-103.939, -116.779, -123.68 ],\n",
       "         ...,\n",
       "         [-103.939, -116.779, -123.68 ],\n",
       "         [-103.939, -116.779, -123.68 ],\n",
       "         [-103.939, -116.779, -123.68 ]],\n",
       "\n",
       "        [[-103.939, -116.779, -123.68 ],\n",
       "         [-103.939, -116.779, -123.68 ],\n",
       "         [-103.939, -116.779, -123.68 ],\n",
       "         ...,\n",
       "         [-103.939, -116.779, -123.68 ],\n",
       "         [-103.939, -116.779, -123.68 ],\n",
       "         [-103.939, -116.779, -123.68 ]],\n",
       "\n",
       "        ...,\n",
       "\n",
       "        [[-103.939, -116.779, -123.68 ],\n",
       "         [-103.939, -116.779, -123.68 ],\n",
       "         [-103.939, -116.779, -123.68 ],\n",
       "         ...,\n",
       "         [-103.939, -116.779, -123.68 ],\n",
       "         [-103.939, -116.779, -123.68 ],\n",
       "         [-103.939, -116.779, -123.68 ]],\n",
       "\n",
       "        [[-103.939, -116.779, -123.68 ],\n",
       "         [-103.939, -116.779, -123.68 ],\n",
       "         [-103.939, -116.779, -123.68 ],\n",
       "         ...,\n",
       "         [-103.939, -116.779, -123.68 ],\n",
       "         [-103.939, -116.779, -123.68 ],\n",
       "         [-103.939, -116.779, -123.68 ]],\n",
       "\n",
       "        [[-103.939, -116.779, -123.68 ],\n",
       "         [-103.939, -116.779, -123.68 ],\n",
       "         [-103.939, -116.779, -123.68 ],\n",
       "         ...,\n",
       "         [-103.939, -116.779, -123.68 ],\n",
       "         [-103.939, -116.779, -123.68 ],\n",
       "         [-103.939, -116.779, -123.68 ]]]], dtype=float32)"
      ]
     },
     "execution_count": 38,
     "metadata": {},
     "output_type": "execute_result"
    }
   ],
   "source": [
    "pred_image"
   ]
  },
  {
   "cell_type": "code",
   "execution_count": 39,
   "metadata": {},
   "outputs": [],
   "source": [
    "a = np.argmax(model.predict(pred_image),axis=1)"
   ]
  },
  {
   "cell_type": "code",
   "execution_count": 41,
   "metadata": {},
   "outputs": [
    {
     "name": "stdout",
     "output_type": "stream",
     "text": [
      "Parasite\n"
     ]
    }
   ],
   "source": [
    "if a==1:\n",
    "    print('Uninfected')\n",
    "else:\n",
    "    print('Parasite')"
   ]
  },
  {
   "cell_type": "code",
   "execution_count": null,
   "metadata": {},
   "outputs": [],
   "source": []
  }
 ],
 "metadata": {
  "kernelspec": {
   "display_name": "Python 3",
   "language": "python",
   "name": "python3"
  },
  "language_info": {
   "codemirror_mode": {
    "name": "ipython",
    "version": 3
   },
   "file_extension": ".py",
   "mimetype": "text/x-python",
   "name": "python",
   "nbconvert_exporter": "python",
   "pygments_lexer": "ipython3",
   "version": "3.8.3"
  }
 },
 "nbformat": 4,
 "nbformat_minor": 4
}
